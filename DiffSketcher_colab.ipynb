{
  "cells": [
    {
      "cell_type": "markdown",
      "metadata": {
        "id": "view-in-github"
      },
      "source": [
        "[![Open In Colab](https://colab.research.google.com/assets/colab-badge.svg)](https://colab.research.google.com/github/camenduru/DiffSketcher-colab/blob/main/DiffSketcher_colab.ipynb)"
      ]
    },
    {
      "cell_type": "code",
      "execution_count": null,
      "metadata": {
        "id": "VjYy0F2gZIPR"
      },
      "outputs": [],
      "source": [
        "%cd /content\n",
        "!git clone -b dev https://github.com/camenduru/DiffSketcher\n",
        "%cd /content/DiffSketcher\n",
        "!pip install -e .\n",
        "\n",
        "%cd /content\n",
        "!git clone -b dev --recursive https://github.com/camenduru/diffvg\n",
        "%cd /content/diffvg\n",
        "!pip uninstall tensorflow -y\n",
        "!python setup.py install -v\n",
        "\n",
        "!pip install -q https://download.pytorch.org/whl/cu118/xformers-0.0.22.post4%2Bcu118-cp310-cp310-manylinux2014_x86_64.whl\n",
        "!pip install -q git+https://github.com/openai/CLIP.git cssutils\n",
        "!wget https://huggingface.co/camenduru/DiffSketcher/resolve/main/u2net.pth -O /content/DiffSketcher/checkpoint/u2net.pth"
      ]
    },
    {
      "cell_type": "code",
      "execution_count": null,
      "metadata": {},
      "outputs": [],
      "source": [
        "%cd /content/DiffSketcher\n",
        "!python run_painterly_render.py \\\n",
        "  -c diffsketcher.yaml \\\n",
        "  -eval_step 10 -save_step 10 \\\n",
        "  -update \"token_ind=2 num_paths=96 sds.warmup=1000 sds.grad_scale=1e-5 num_iter=1500\" \\\n",
        "  -pt \"A horse is drinking water by the lake\" \\\n",
        "  -respath ./workdir/draw_horse \\\n",
        "  -d 998 \\\n",
        "  --download"
      ]
    }
  ],
  "metadata": {
    "accelerator": "GPU",
    "colab": {
      "gpuType": "T4",
      "provenance": []
    },
    "kernelspec": {
      "display_name": "Python 3",
      "name": "python3"
    },
    "language_info": {
      "name": "python"
    }
  },
  "nbformat": 4,
  "nbformat_minor": 0
}
